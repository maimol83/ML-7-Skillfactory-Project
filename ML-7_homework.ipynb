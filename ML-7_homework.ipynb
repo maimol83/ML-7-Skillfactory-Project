{
 "cells": [
  {
   "attachments": {},
   "cell_type": "markdown",
   "metadata": {},
   "source": [
    "##  Постановка задачи"
   ]
  },
  {
   "attachments": {},
   "cell_type": "markdown",
   "metadata": {},
   "source": [
    "Домашнее задание по модулю ML-7 в рамках обучениия по профессии Data Scientist от SkillFactory.\n",
    "В качестве исходной берется задача, по предсказанию биологического ответа молекул (столбец 'Activity' из файла с данными) по их химическому составу (столбцы D1-D1776).\n",
    "Необходимо обучить две модели: логистическую регрессию и случайный лес. Далее нужно сделать подбор гиперпараметров с помощью базовых и продвинутых методов оптимизации. Важно использовать все четыре метода (GridSeachCV, RandomizedSearchCV, Hyperopt, Optuna) хотя бы по разу, максимальное количество итераций не должно превышать 50."
   ]
  },
  {
   "cell_type": "code",
   "execution_count": 1,
   "metadata": {},
   "outputs": [
    {
     "name": "stderr",
     "output_type": "stream",
     "text": [
      "C:\\Users\\maimo\\AppData\\Local\\Temp\\ipykernel_34504\\2150022218.py:15: MatplotlibDeprecationWarning: The seaborn styles shipped by Matplotlib are deprecated since 3.6, as they no longer correspond to the styles shipped by seaborn. However, they will remain available as 'seaborn-v0_8-<style>'. Alternatively, directly use the seaborn API instead.\n",
      "  plt.style.use('seaborn')\n"
     ]
    }
   ],
   "source": [
    "#импорт библиотек\n",
    "import numpy as np #для матричных вычислений\n",
    "import pandas as pd #для анализа и предобработки данных\n",
    "import matplotlib.pyplot as plt #для визуализации\n",
    "import seaborn as sns #для визуализации\n",
    "\n",
    "from sklearn import linear_model #линейные моделиё\n",
    "from sklearn import tree #деревья решений\n",
    "from sklearn import ensemble #ансамбли\n",
    "from sklearn import metrics #метрики\n",
    "from sklearn import preprocessing #предобработка\n",
    "from sklearn.model_selection import train_test_split #сплитование выборки\n",
    "\n",
    "%matplotlib inline\n",
    "plt.style.use('seaborn')"
   ]
  },
  {
   "cell_type": "code",
   "execution_count": 3,
   "metadata": {},
   "outputs": [],
   "source": [
    "data = pd.read_csv('_train_sem09.csv')"
   ]
  },
  {
   "cell_type": "code",
   "execution_count": 4,
   "metadata": {},
   "outputs": [
    {
     "data": {
      "text/html": [
       "<div>\n",
       "<style scoped>\n",
       "    .dataframe tbody tr th:only-of-type {\n",
       "        vertical-align: middle;\n",
       "    }\n",
       "\n",
       "    .dataframe tbody tr th {\n",
       "        vertical-align: top;\n",
       "    }\n",
       "\n",
       "    .dataframe thead th {\n",
       "        text-align: right;\n",
       "    }\n",
       "</style>\n",
       "<table border=\"1\" class=\"dataframe\">\n",
       "  <thead>\n",
       "    <tr style=\"text-align: right;\">\n",
       "      <th></th>\n",
       "      <th>Activity</th>\n",
       "      <th>D1</th>\n",
       "      <th>D2</th>\n",
       "      <th>D3</th>\n",
       "      <th>D4</th>\n",
       "      <th>D5</th>\n",
       "      <th>D6</th>\n",
       "      <th>D7</th>\n",
       "      <th>D8</th>\n",
       "      <th>D9</th>\n",
       "      <th>...</th>\n",
       "      <th>D1767</th>\n",
       "      <th>D1768</th>\n",
       "      <th>D1769</th>\n",
       "      <th>D1770</th>\n",
       "      <th>D1771</th>\n",
       "      <th>D1772</th>\n",
       "      <th>D1773</th>\n",
       "      <th>D1774</th>\n",
       "      <th>D1775</th>\n",
       "      <th>D1776</th>\n",
       "    </tr>\n",
       "  </thead>\n",
       "  <tbody>\n",
       "    <tr>\n",
       "      <th>0</th>\n",
       "      <td>1</td>\n",
       "      <td>0.000000</td>\n",
       "      <td>0.497009</td>\n",
       "      <td>0.10</td>\n",
       "      <td>0.0</td>\n",
       "      <td>0.132956</td>\n",
       "      <td>0.678031</td>\n",
       "      <td>0.273166</td>\n",
       "      <td>0.585445</td>\n",
       "      <td>0.743663</td>\n",
       "      <td>...</td>\n",
       "      <td>0</td>\n",
       "      <td>0</td>\n",
       "      <td>0</td>\n",
       "      <td>0</td>\n",
       "      <td>0</td>\n",
       "      <td>0</td>\n",
       "      <td>0</td>\n",
       "      <td>0</td>\n",
       "      <td>0</td>\n",
       "      <td>0</td>\n",
       "    </tr>\n",
       "    <tr>\n",
       "      <th>1</th>\n",
       "      <td>1</td>\n",
       "      <td>0.366667</td>\n",
       "      <td>0.606291</td>\n",
       "      <td>0.05</td>\n",
       "      <td>0.0</td>\n",
       "      <td>0.111209</td>\n",
       "      <td>0.803455</td>\n",
       "      <td>0.106105</td>\n",
       "      <td>0.411754</td>\n",
       "      <td>0.836582</td>\n",
       "      <td>...</td>\n",
       "      <td>1</td>\n",
       "      <td>1</td>\n",
       "      <td>1</td>\n",
       "      <td>1</td>\n",
       "      <td>0</td>\n",
       "      <td>1</td>\n",
       "      <td>0</td>\n",
       "      <td>0</td>\n",
       "      <td>1</td>\n",
       "      <td>0</td>\n",
       "    </tr>\n",
       "    <tr>\n",
       "      <th>2</th>\n",
       "      <td>1</td>\n",
       "      <td>0.033300</td>\n",
       "      <td>0.480124</td>\n",
       "      <td>0.00</td>\n",
       "      <td>0.0</td>\n",
       "      <td>0.209791</td>\n",
       "      <td>0.610350</td>\n",
       "      <td>0.356453</td>\n",
       "      <td>0.517720</td>\n",
       "      <td>0.679051</td>\n",
       "      <td>...</td>\n",
       "      <td>0</td>\n",
       "      <td>0</td>\n",
       "      <td>0</td>\n",
       "      <td>0</td>\n",
       "      <td>0</td>\n",
       "      <td>0</td>\n",
       "      <td>0</td>\n",
       "      <td>0</td>\n",
       "      <td>0</td>\n",
       "      <td>0</td>\n",
       "    </tr>\n",
       "    <tr>\n",
       "      <th>3</th>\n",
       "      <td>1</td>\n",
       "      <td>0.000000</td>\n",
       "      <td>0.538825</td>\n",
       "      <td>0.00</td>\n",
       "      <td>0.5</td>\n",
       "      <td>0.196344</td>\n",
       "      <td>0.724230</td>\n",
       "      <td>0.235606</td>\n",
       "      <td>0.288764</td>\n",
       "      <td>0.805110</td>\n",
       "      <td>...</td>\n",
       "      <td>0</td>\n",
       "      <td>0</td>\n",
       "      <td>0</td>\n",
       "      <td>0</td>\n",
       "      <td>0</td>\n",
       "      <td>0</td>\n",
       "      <td>0</td>\n",
       "      <td>0</td>\n",
       "      <td>0</td>\n",
       "      <td>0</td>\n",
       "    </tr>\n",
       "    <tr>\n",
       "      <th>4</th>\n",
       "      <td>0</td>\n",
       "      <td>0.100000</td>\n",
       "      <td>0.517794</td>\n",
       "      <td>0.00</td>\n",
       "      <td>0.0</td>\n",
       "      <td>0.494734</td>\n",
       "      <td>0.781422</td>\n",
       "      <td>0.154361</td>\n",
       "      <td>0.303809</td>\n",
       "      <td>0.812646</td>\n",
       "      <td>...</td>\n",
       "      <td>0</td>\n",
       "      <td>0</td>\n",
       "      <td>0</td>\n",
       "      <td>0</td>\n",
       "      <td>0</td>\n",
       "      <td>0</td>\n",
       "      <td>0</td>\n",
       "      <td>0</td>\n",
       "      <td>0</td>\n",
       "      <td>0</td>\n",
       "    </tr>\n",
       "  </tbody>\n",
       "</table>\n",
       "<p>5 rows × 1777 columns</p>\n",
       "</div>"
      ],
      "text/plain": [
       "   Activity        D1        D2    D3   D4        D5        D6        D7  \\\n",
       "0         1  0.000000  0.497009  0.10  0.0  0.132956  0.678031  0.273166   \n",
       "1         1  0.366667  0.606291  0.05  0.0  0.111209  0.803455  0.106105   \n",
       "2         1  0.033300  0.480124  0.00  0.0  0.209791  0.610350  0.356453   \n",
       "3         1  0.000000  0.538825  0.00  0.5  0.196344  0.724230  0.235606   \n",
       "4         0  0.100000  0.517794  0.00  0.0  0.494734  0.781422  0.154361   \n",
       "\n",
       "         D8        D9  ...  D1767  D1768  D1769  D1770  D1771  D1772  D1773  \\\n",
       "0  0.585445  0.743663  ...      0      0      0      0      0      0      0   \n",
       "1  0.411754  0.836582  ...      1      1      1      1      0      1      0   \n",
       "2  0.517720  0.679051  ...      0      0      0      0      0      0      0   \n",
       "3  0.288764  0.805110  ...      0      0      0      0      0      0      0   \n",
       "4  0.303809  0.812646  ...      0      0      0      0      0      0      0   \n",
       "\n",
       "   D1774  D1775  D1776  \n",
       "0      0      0      0  \n",
       "1      0      1      0  \n",
       "2      0      0      0  \n",
       "3      0      0      0  \n",
       "4      0      0      0  \n",
       "\n",
       "[5 rows x 1777 columns]"
      ]
     },
     "execution_count": 4,
     "metadata": {},
     "output_type": "execute_result"
    }
   ],
   "source": [
    "data.head() #проверяем, что все импортировалось корректно"
   ]
  },
  {
   "attachments": {},
   "cell_type": "markdown",
   "metadata": {},
   "source": [
    "Данные представлены в формате CSV.  Каждая строка представляет молекулу. \n",
    "\n",
    "Первый столбец Activity содержит экспериментальные данные, описывающие фактический биологический ответ [0, 1]; \n",
    "Остальные столбцы D1-D1776 представляют собой молекулярные дескрипторы — это вычисляемые свойства, которые могут фиксировать некоторые характеристики молекулы, например размер, форму или состав элементов.\n",
    "\n",
    "Предварительная обработка не требуется, данные уже закодированы и нормализованы.\n",
    "\n",
    "В качестве метрики будем использовать F1-score."
   ]
  },
  {
   "cell_type": "code",
   "execution_count": 5,
   "metadata": {},
   "outputs": [],
   "source": [
    "#Создаем матрицы с наблюдениями и вектор с результатми\n",
    "X = data.drop(['Activity'], axis=1)\n",
    "y = data['Activity']"
   ]
  },
  {
   "attachments": {},
   "cell_type": "markdown",
   "metadata": {},
   "source": [
    "Смотрим на сбалансированность классов:"
   ]
  },
  {
   "cell_type": "code",
   "execution_count": 9,
   "metadata": {},
   "outputs": [
    {
     "data": {
      "image/png": "[encoded data removed]",
      "text/plain": [
       "<Figure size 800x550 with 1 Axes>"
      ]
     },
     "metadata": {},
     "output_type": "display_data"
    }
   ],
   "source": [
    "sns.countplot(data=data, x='Activity');"
   ]
  },
  {
   "attachments": {},
   "cell_type": "markdown",
   "metadata": {},
   "source": [
    "Разделяем выборку на тренировочную и тестовую в соотношении 80/20. Для сохранения соотношений целевого признака используем параметр stratify (стратифицированное разбиение), хотя скорее всего можно обойтись и без этого, так как соотношения 0 и 1 примерно 50 на 50. "
   ]
  },
  {
   "cell_type": "code",
   "execution_count": 10,
   "metadata": {},
   "outputs": [],
   "source": [
    "X_train, X_test, y_train, y_test = train_test_split(X, y, stratify=y, random_state = 1, test_size = 0.2)"
   ]
  },
  {
   "attachments": {},
   "cell_type": "markdown",
   "metadata": {},
   "source": [
    "### Оптимизация гиперпараметров модели"
   ]
  },
  {
   "attachments": {},
   "cell_type": "markdown",
   "metadata": {},
   "source": [
    "#### **Логистическая регрессия**"
   ]
  },
  {
   "attachments": {},
   "cell_type": "markdown",
   "metadata": {},
   "source": [
    "Зафиксируем только метрики, которые были получены без дополнительной настройки, т.е со значениями гиперпараметров, установленных по умолчанию:"
   ]
  },
  {
   "cell_type": "code",
   "execution_count": 12,
   "metadata": {},
   "outputs": [
    {
     "name": "stdout",
     "output_type": "stream",
     "text": [
      "accuracy на тестовом наборе: 0.76\n",
      "f1_score на тестовом наборе: 0.78\n"
     ]
    }
   ],
   "source": [
    "#Создаем объект класса логистическая регрессия\n",
    "log_reg = linear_model.LogisticRegression(max_iter = 1000)\n",
    "#Обучаем модель, минимизируя logloss\n",
    "log_reg.fit(X_train, y_train)\n",
    "print(\"accuracy на тестовом наборе: {:.2f}\".format(log_reg.score(X_test, y_test)))\n",
    "y_test_pred = log_reg.predict(X_test)\n",
    "print('f1_score на тестовом наборе: {:.2f}'.format(metrics.f1_score(y_test, y_test_pred)))"
   ]
  },
  {
   "attachments": {},
   "cell_type": "markdown",
   "metadata": {},
   "source": [
    "#### **RandomForrest**"
   ]
  },
  {
   "cell_type": "code",
   "execution_count": 13,
   "metadata": {},
   "outputs": [
    {
     "name": "stdout",
     "output_type": "stream",
     "text": [
      "Train: 1.00\n",
      "Test: 0.81\n"
     ]
    }
   ],
   "source": [
    "#Создаем объект класса случайный лес\n",
    "rf = ensemble.RandomForestClassifier(random_state=42)\n",
    "#Обучаем модель\n",
    "rf.fit(X_train, y_train)\n",
    "#Выводим значения метрики \n",
    "y_train_pred = rf.predict(X_train)\n",
    "print('Train: {:.2f}'.format(metrics.f1_score(y_train, y_train_pred)))\n",
    "y_test_pred = rf.predict(X_test)\n",
    "print('Test: {:.2f}'.format(metrics.f1_score(y_test, y_test_pred)))"
   ]
  },
  {
   "attachments": {},
   "cell_type": "markdown",
   "metadata": {},
   "source": [
    "### <center> <font color=Red> **GridSearchCV**"
   ]
  },
  {
   "attachments": {},
   "cell_type": "markdown",
   "metadata": {},
   "source": [
    "#### **Logistic Regression**"
   ]
  },
  {
   "cell_type": "code",
   "execution_count": 21,
   "metadata": {},
   "outputs": [
    {
     "name": "stdout",
     "output_type": "stream",
     "text": [
      "CPU times: total: 125 ms\n",
      "Wall time: 46.4 s\n",
      "accuracy на тестовом наборе: 0.76\n",
      "f1_score на тестовом наборе: 0.78\n",
      "Наилучшие значения гиперпараметров: {'penalty': 'l2', 'solver': 'liblinear'}\n",
      "Наилучшее значение точности при кросс-валидации: 0.75\n"
     ]
    }
   ],
   "source": [
    "from sklearn.model_selection import GridSearchCV\n",
    "\n",
    "param_grid = {'penalty': ['l1', 'l2'] ,#тип регурялизации\n",
    "              'solver': ['liblinear', 'saga'], #алгоритм оптимизации\n",
    "              }\n",
    "grid_search = GridSearchCV(\n",
    "    estimator=linear_model.LogisticRegression(\n",
    "        random_state=42, #генератор случайных чисел\n",
    "        max_iter=1000 #количество итераций на сходимость\n",
    "    ), \n",
    "    param_grid=param_grid, \n",
    "    cv=5, \n",
    "    n_jobs = -1\n",
    ")  \n",
    "%time grid_search.fit(X_train, y_train) \n",
    "print(\"accuracy на тестовом наборе: {:.2f}\".format(grid_search.score(X_test, y_test)))\n",
    "y_test_pred = grid_search.predict(X_test)\n",
    "print('f1_score на тестовом наборе: {:.2f}'.format(metrics.f1_score(y_test, y_test_pred)))\n",
    "print(\"Наилучшие значения гиперпараметров: {}\".format(grid_search.best_params_))\n",
    "print(\"Наилучшее значение точности при кросс-валидации: {:.2f}\".format(grid_search.best_score_))"
   ]
  },
  {
   "attachments": {},
   "cell_type": "markdown",
   "metadata": {},
   "source": [
    "#### **Random Forrest**"
   ]
  },
  {
   "cell_type": "code",
   "execution_count": 22,
   "metadata": {},
   "outputs": [
    {
     "name": "stdout",
     "output_type": "stream",
     "text": [
      "accuracy на тестовом наборе: 0.80\n",
      "f1_score на тестовом наборе: 0.82\n",
      "Наилучшие значения гиперпараметров: {'max_depth': 20, 'min_samples_leaf': 5, 'n_estimators': 140}\n",
      "Наилучшее значение точности при кросс-валидации: 0.78\n"
     ]
    }
   ],
   "source": [
    "param_grid = {'n_estimators': list(range(80, 200, 30)),\n",
    "              'min_samples_leaf': [5],\n",
    "              'max_depth': list(np.linspace(20, 40, 5, dtype=int))\n",
    "              }\n",
    "            \n",
    "grid_search1 = GridSearchCV(\n",
    "    estimator=ensemble.RandomForestClassifier(random_state=42), \n",
    "    param_grid=param_grid, \n",
    "    cv=5, \n",
    "    n_jobs = -1\n",
    ")  \n",
    "grid_search1.fit(X_train, y_train) \n",
    "print(\"accuracy на тестовом наборе: {:.2f}\".format(grid_search1.score(X_test, y_test)))\n",
    "y_test_pred = grid_search1.predict(X_test)\n",
    "print('f1_score на тестовом наборе: {:.2f}'.format(metrics.f1_score(y_test, y_test_pred)))\n",
    "print(\"Наилучшие значения гиперпараметров: {}\".format(grid_search1.best_params_))\n",
    "print(\"Наилучшее значение точности при кросс-валидации: {:.2f}\".format(grid_search1.best_score_))"
   ]
  },
  {
   "attachments": {},
   "cell_type": "markdown",
   "metadata": {},
   "source": [
    "### <center> <font color=Yellow> **RandomizedSearchCV**"
   ]
  },
  {
   "attachments": {},
   "cell_type": "markdown",
   "metadata": {},
   "source": [
    "#### **Logistic Regression**"
   ]
  },
  {
   "cell_type": "code",
   "execution_count": 23,
   "metadata": {},
   "outputs": [
    {
     "name": "stdout",
     "output_type": "stream",
     "text": [
      "CPU times: total: 141 ms\n",
      "Wall time: 1min 29s\n",
      "accuracy на тестовом наборе: 0.77\n",
      "f1_score на тестовом наборе: 0.79\n",
      "Наилучшие значения гиперпараметров: {'solver': 'liblinear', 'penalty': 'l1', 'C': 0.23}\n"
     ]
    }
   ],
   "source": [
    "from sklearn.model_selection import RandomizedSearchCV\n",
    "\n",
    "param_distributions = {'penalty': ['l1', 'l2'] ,#тип регурялизации\n",
    "              'solver': ['liblinear', 'saga'], #алгоритм оптимизации\n",
    "               'C': list(np.linspace(0.01, 1, 10, dtype=float))},\n",
    "            \n",
    "random_search = RandomizedSearchCV(\n",
    "    estimator=linear_model.LogisticRegression(random_state=42, max_iter=1000), \n",
    "    param_distributions=param_distributions, \n",
    "    cv=5, \n",
    "    n_iter = 10, \n",
    "    n_jobs = -1\n",
    ")  \n",
    "%time random_search.fit(X_train, y_train) \n",
    "print(\"accuracy на тестовом наборе: {:.2f}\".format(random_search.score(X_test, y_test)))\n",
    "y_test_pred = random_search.predict(X_test)\n",
    "print('f1_score на тестовом наборе: {:.2f}'.format(metrics.f1_score(y_test, y_test_pred)))\n",
    "print(\"Наилучшие значения гиперпараметров: {}\".format(random_search.best_params_))"
   ]
  },
  {
   "attachments": {},
   "cell_type": "markdown",
   "metadata": {},
   "source": [
    "#### **Random Forrest**"
   ]
  },
  {
   "cell_type": "code",
   "execution_count": 24,
   "metadata": {},
   "outputs": [
    {
     "name": "stdout",
     "output_type": "stream",
     "text": [
      "CPU times: total: 375 ms\n",
      "Wall time: 8.61 s\n",
      "f1_score на обучающем наборе: 0.94\n",
      "accuracy на тестовом наборе: 0.81\n",
      "f1_score на тестовом наборе: 0.83\n",
      "Наилучшие значения гиперпараметров: {'n_estimators': 80, 'min_samples_leaf': 5, 'max_depth': 22}\n"
     ]
    }
   ],
   "source": [
    "param_distributions = {'n_estimators': list(range(80, 200, 30)),\n",
    "              'min_samples_leaf': [5],\n",
    "              'max_depth': list(np.linspace(20, 40, 10, dtype=int))\n",
    "              }\n",
    "            \n",
    "random_search_forest = RandomizedSearchCV(\n",
    "    estimator=ensemble.RandomForestClassifier(random_state=42), \n",
    "    param_distributions=param_distributions, \n",
    "    cv=5,\n",
    "    n_iter = 10, \n",
    "    n_jobs = -1\n",
    ")  \n",
    "%time random_search_forest.fit(X_train, y_train) \n",
    "y_train_pred = random_search_forest.predict(X_train)\n",
    "print('f1_score на обучающем наборе: {:.2f}'.format(metrics.f1_score(y_train, y_train_pred)))\n",
    "print(\"accuracy на тестовом наборе: {:.2f}\".format(random_search_forest.score(X_test, y_test)))\n",
    "y_test_pred = random_search_forest.predict(X_test)\n",
    "print('f1_score на тестовом наборе: {:.2f}'.format(metrics.f1_score(y_test, y_test_pred)))\n",
    "print(\"Наилучшие значения гиперпараметров: {}\".format(random_search_forest.best_params_))"
   ]
  },
  {
   "attachments": {},
   "cell_type": "markdown",
   "metadata": {},
   "source": [
    "### <center> <font color=Green> **Hyperopt**"
   ]
  },
  {
   "attachments": {},
   "cell_type": "markdown",
   "metadata": {},
   "source": [
    "#### **Logistic Regression**"
   ]
  },
  {
   "cell_type": "code",
   "execution_count": 25,
   "metadata": {},
   "outputs": [],
   "source": [
    "from sklearn.model_selection import cross_val_score\n",
    "import hyperopt\n",
    "from hyperopt import hp, fmin, tpe, Trials"
   ]
  },
  {
   "attachments": {},
   "cell_type": "markdown",
   "metadata": {},
   "source": [
    "Настроим оптимизацию гиперпараметров для алгоритма логистической регрессии."
   ]
  },
  {
   "cell_type": "code",
   "execution_count": 37,
   "metadata": {},
   "outputs": [],
   "source": [
    "# зададим пространство поиска гиперпараметров\n",
    "space={'penalty':  hp.choice('penalty',{'l1', 'l2'}),\n",
    "       'solver':  hp.choice('solver',{'liblinear', 'saga'}),\n",
    "       'C': hp.choice('C', {0.01,0.02,0.03,0.04,0.05,0.07,0.09,1}) # уровень силы регуляризации     \n",
    "       }"
   ]
  },
  {
   "cell_type": "code",
   "execution_count": 51,
   "metadata": {},
   "outputs": [],
   "source": [
    "# зафксируем random_state\n",
    "random_state = 42\n",
    "def hyperopt_lr(params, cv=5, X=X_train, y=y_train, random_state=random_state):\n",
    "    # функция получает комбинацию гиперпараметров в \"params\"\n",
    "    params = {'penalty': params['penalty'] ,#тип регурялизации\n",
    "              'solver': params['solver'], #алгоритм оптимизации\n",
    "               'C': params['C']}\n",
    "  \n",
    "    # используем эту комбинацию для построения модели\n",
    "    model = linear_model.LogisticRegression(**params, random_state=42, max_iter=1000)\n",
    "\n",
    "    # обучаем модель\n",
    "    model.fit(X, y)\n",
    "    score = cross_val_score(model, X, y, cv=cv, scoring=\"f1\", n_jobs=-1).mean()\n",
    "\n",
    "    # метрику необходимо минимизировать, поэтому ставим знак минус\n",
    "    return -score"
   ]
  },
  {
   "cell_type": "code",
   "execution_count": 52,
   "metadata": {},
   "outputs": [
    {
     "name": "stdout",
     "output_type": "stream",
     "text": [
      " 73%|███████▎  | 11/15 [01:36<00:25,  6.50s/trial, best loss: -0.7856870897253121]"
     ]
    },
    {
     "name": "stderr",
     "output_type": "stream",
     "text": [
      "c:\\Users\\maimo\\AppData\\Local\\Programs\\Python\\Python311\\Lib\\site-packages\\sklearn\\linear_model\\_sag.py:350: ConvergenceWarning: The max_iter was reached which means the coef_ did not converge\n",
      "  warnings.warn(\n",
      "\n"
     ]
    },
    {
     "name": "stdout",
     "output_type": "stream",
     "text": [
      "100%|██████████| 15/15 [03:13<00:00, 12.89s/trial, best loss: -0.7856870897253121]\n",
      "Наилучшие значения гиперпараметров {'C': 4, 'penalty': 0, 'solver': 0}\n",
      "CPU times: total: 27.2 s\n",
      "Wall time: 3min 13s\n"
     ]
    }
   ],
   "source": [
    "\n",
    "%%time\n",
    "\n",
    "trials = Trials() # используется для логирования результатов\n",
    "\n",
    "best=fmin(hyperopt_lr, # наша функция \n",
    "          space=space, # пространство гиперпараметров\n",
    "          algo=tpe.suggest, # алгоритм оптимизации, установлен по умолчанию, задавать необязательно\n",
    "          max_evals=15, # максимальное количество итераций\n",
    "          trials=trials, # логирование результатов\n",
    "          rstate=np.random.default_rng(random_state)# фиксируем для повторяемости результата\n",
    "         )\n",
    "print(\"Наилучшие значения гиперпараметров {}\".format(best))"
   ]
  },
  {
   "cell_type": "code",
   "execution_count": 53,
   "metadata": {},
   "outputs": [
    {
     "name": "stdout",
     "output_type": "stream",
     "text": [
      "f1_score на обучающем наборе: 0.77\n",
      "accuracy на тестовом наборе: 0.75\n",
      "f1_score на тестовом наборе: 0.77\n"
     ]
    }
   ],
   "source": [
    "# рассчитаем точность для тестовой выборки\n",
    "model = linear_model.LogisticRegression(\n",
    "    random_state=random_state, \n",
    "    C=0.05,\n",
    "    penalty='l1',\n",
    "    solver = 'liblinear',\n",
    "    max_iter=1000\n",
    ")\n",
    "model.fit(X_train, y_train)\n",
    "y_train_pred = model.predict(X_train)\n",
    "print('f1_score на обучающем наборе: {:.2f}'.format(metrics.f1_score(y_train, y_train_pred)))\n",
    "print(\"accuracy на тестовом наборе: {:.2f}\".format(model.score(X_test, y_test)))\n",
    "y_test_pred = model.predict(X_test)\n",
    "print('f1_score на тестовом наборе: {:.2f}'.format(metrics.f1_score(y_test, y_test_pred)))"
   ]
  },
  {
   "attachments": {},
   "cell_type": "markdown",
   "metadata": {},
   "source": [
    "#### **Random Forrest**"
   ]
  },
  {
   "cell_type": "code",
   "execution_count": 54,
   "metadata": {},
   "outputs": [],
   "source": [
    "# зададим пространство поиска гиперпараметров\n",
    "space={'n_estimators': hp.quniform('n_estimators', 100, 200, 1),\n",
    "       'max_depth' : hp.quniform('max_depth', 15, 26, 1),\n",
    "       'min_samples_leaf': hp.quniform('min_samples_leaf', 2, 10, 1)\n",
    "      }"
   ]
  },
  {
   "cell_type": "code",
   "execution_count": 60,
   "metadata": {},
   "outputs": [],
   "source": [
    "# зафксируем random_state\n",
    "random_state = 42\n",
    "def hyperopt_rf(params, cv=5, X=X_train, y=y_train, random_state=random_state):\n",
    "    # функция получает комбинацию гиперпараметров в \"params\"\n",
    "    params = {'n_estimators': int(params['n_estimators']), \n",
    "              'max_depth': int(params['max_depth']), \n",
    "             'min_samples_leaf': int(params['min_samples_leaf'])\n",
    "              }\n",
    "  \n",
    "    # используем эту комбинацию для построения модели\n",
    "    model = ensemble.RandomForestClassifier(**params, random_state=random_state)\n",
    "\n",
    "    # обучаем модель\n",
    "    model.fit(X, y)\n",
    "    score = cross_val_score(model, X, y, cv=cv, scoring=\"f1\", n_jobs=-1).mean()\n",
    "    \n",
    "    return -score"
   ]
  },
  {
   "cell_type": "code",
   "execution_count": 62,
   "metadata": {},
   "outputs": [
    {
     "name": "stdout",
     "output_type": "stream",
     "text": [
      "100%|██████████| 20/20 [00:53<00:00,  2.69s/trial, best loss: -0.8080577050312506]\n",
      "Наилучшие значения гиперпараметров {'max_depth': 18.0, 'min_samples_leaf': 2.0, 'n_estimators': 103.0}\n",
      "CPU times: total: 6.78 s\n",
      "Wall time: 53.7 s\n"
     ]
    }
   ],
   "source": [
    "%%time\n",
    "\n",
    "trials_rf = Trials() # используется для логирования результатов\n",
    "\n",
    "best_rf=fmin(hyperopt_rf, # наша функция \n",
    "          space=space, # пространство гиперпараметров\n",
    "          algo=tpe.suggest, # алгоритм оптимизации, установлен по умолчанию, задавать необязательно\n",
    "          max_evals=20, # максимальное количество итераций\n",
    "          trials=trials_rf, # логирование результатов\n",
    "          rstate=np.random.default_rng(random_state)# фиксируем для повторяемости результата\n",
    "         )\n",
    "print(\"Наилучшие значения гиперпараметров {}\".format(best_rf))"
   ]
  },
  {
   "cell_type": "code",
   "execution_count": 63,
   "metadata": {},
   "outputs": [
    {
     "name": "stdout",
     "output_type": "stream",
     "text": [
      "f1_score на обучающем наборе: 0.99\n",
      "accuracy на тестовом наборе: 0.80\n",
      "f1_score на тестовом наборе: 0.82\n"
     ]
    }
   ],
   "source": [
    "# рассчитаем точность для тестовой выборки\n",
    "model_rf = ensemble.RandomForestClassifier(\n",
    "    random_state=random_state, \n",
    "    n_estimators=int(best_rf['n_estimators']),\n",
    "    max_depth=int(best_rf['max_depth']),\n",
    "    min_samples_leaf=int(best_rf['min_samples_leaf'])\n",
    ")\n",
    "model_rf.fit(X_train, y_train)\n",
    "y_train_pred = model_rf.predict(X_train)\n",
    "print('f1_score на обучающем наборе: {:.2f}'.format(metrics.f1_score(y_train, y_train_pred)))\n",
    "print(\"accuracy на тестовом наборе: {:.2f}\".format(model_rf.score(X_test, y_test)))\n",
    "y_test_pred = model_rf.predict(X_test)\n",
    "print('f1_score на тестовом наборе: {:.2f}'.format(metrics.f1_score(y_test, y_test_pred)))"
   ]
  },
  {
   "attachments": {},
   "cell_type": "markdown",
   "metadata": {},
   "source": [
    "### <center> <font color=Blue> **Optuna**"
   ]
  },
  {
   "cell_type": "code",
   "execution_count": 66,
   "metadata": {},
   "outputs": [
    {
     "name": "stderr",
     "output_type": "stream",
     "text": [
      "c:\\Users\\maimo\\AppData\\Local\\Programs\\Python\\Python311\\Lib\\site-packages\\tqdm\\auto.py:22: TqdmWarning: IProgress not found. Please update jupyter and ipywidgets. See https://ipywidgets.readthedocs.io/en/stable/user_install.html\n",
      "  from .autonotebook import tqdm as notebook_tqdm\n"
     ]
    }
   ],
   "source": [
    "import optuna"
   ]
  },
  {
   "attachments": {},
   "cell_type": "markdown",
   "metadata": {},
   "source": [
    "#### **Logistic Regression**"
   ]
  },
  {
   "cell_type": "code",
   "execution_count": 68,
   "metadata": {},
   "outputs": [],
   "source": [
    "def optuna_lg(trial):\n",
    "  # задаем пространства поиска гиперпараметров\n",
    "  penalty = trial.suggest_categorical('penalty', {'l1', 'l2'})\n",
    "  solver = trial.suggest_categorical('solver', {'liblinear', 'saga'})\n",
    "  C = trial.suggest_categorical('C', {0.01,0.02,0.03,0.04,0.05,0.07,0.09,1})\n",
    "\n",
    "  # создаем модель\n",
    "  model = linear_model.LogisticRegression(\n",
    "    random_state=random_state, \n",
    "    C=C,\n",
    "    penalty=penalty,\n",
    "    solver = solver,\n",
    "    max_iter=1000\n",
    ")\n",
    "  # обучаем модель\n",
    "  model.fit(X_train, y_train)\n",
    "  score = cross_val_score(model, X, y, cv=5, scoring=\"f1\", n_jobs=-1).mean()\n",
    "\n",
    "  return score\n"
   ]
  },
  {
   "cell_type": "code",
   "execution_count": 69,
   "metadata": {},
   "outputs": [
    {
     "name": "stderr",
     "output_type": "stream",
     "text": [
      "\u001b[32m[I 2022-12-26 15:31:18,510]\u001b[0m A new study created in memory with name: LogisticRegression\u001b[0m\n",
      "\u001b[32m[I 2022-12-26 15:31:23,145]\u001b[0m Trial 0 finished with value: 0.7522687790497345 and parameters: {'penalty': 'l1', 'solver': 'saga', 'C': 0.02}. Best is trial 0 with value: 0.7522687790497345.\u001b[0m\n",
      "\u001b[32m[I 2022-12-26 15:31:24,657]\u001b[0m Trial 1 finished with value: 0.7631300938317868 and parameters: {'penalty': 'l1', 'solver': 'liblinear', 'C': 0.04}. Best is trial 1 with value: 0.7631300938317868.\u001b[0m\n",
      "\u001b[32m[I 2022-12-26 15:31:35,094]\u001b[0m Trial 2 finished with value: 0.7838901806138469 and parameters: {'penalty': 'l2', 'solver': 'saga', 'C': 0.01}. Best is trial 2 with value: 0.7838901806138469.\u001b[0m\n",
      "\u001b[32m[I 2022-12-26 15:31:38,793]\u001b[0m Trial 3 finished with value: 0.7522687790497345 and parameters: {'penalty': 'l1', 'solver': 'saga', 'C': 0.02}. Best is trial 2 with value: 0.7838901806138469.\u001b[0m\n",
      "\u001b[32m[I 2022-12-26 15:31:55,121]\u001b[0m Trial 4 finished with value: 0.7897124883823335 and parameters: {'penalty': 'l2', 'solver': 'saga', 'C': 0.04}. Best is trial 4 with value: 0.7897124883823335.\u001b[0m\n",
      "\u001b[32m[I 2022-12-26 15:32:02,450]\u001b[0m Trial 5 finished with value: 0.7693434597259541 and parameters: {'penalty': 'l1', 'solver': 'saga', 'C': 0.05}. Best is trial 4 with value: 0.7897124883823335.\u001b[0m\n",
      "\u001b[32m[I 2022-12-26 15:32:15,687]\u001b[0m Trial 6 finished with value: 0.7899003134860499 and parameters: {'penalty': 'l2', 'solver': 'saga', 'C': 0.02}. Best is trial 6 with value: 0.7899003134860499.\u001b[0m\n",
      "\u001b[32m[I 2022-12-26 15:32:16,447]\u001b[0m Trial 7 finished with value: 0.7775346001424086 and parameters: {'penalty': 'l1', 'solver': 'liblinear', 'C': 0.07}. Best is trial 6 with value: 0.7899003134860499.\u001b[0m\n",
      "\u001b[32m[I 2022-12-26 15:32:17,261]\u001b[0m Trial 8 finished with value: 0.790418113042934 and parameters: {'penalty': 'l2', 'solver': 'liblinear', 'C': 0.02}. Best is trial 8 with value: 0.790418113042934.\u001b[0m\n",
      "\u001b[32m[I 2022-12-26 15:32:37,736]\u001b[0m Trial 9 finished with value: 0.7870528951492943 and parameters: {'penalty': 'l2', 'solver': 'saga', 'C': 0.07}. Best is trial 8 with value: 0.790418113042934.\u001b[0m\n",
      "\u001b[32m[I 2022-12-26 15:32:38,709]\u001b[0m Trial 10 finished with value: 0.7862959160580352 and parameters: {'penalty': 'l2', 'solver': 'liblinear', 'C': 0.09}. Best is trial 8 with value: 0.790418113042934.\u001b[0m\n",
      "\u001b[32m[I 2022-12-26 15:32:39,581]\u001b[0m Trial 11 finished with value: 0.790418113042934 and parameters: {'penalty': 'l2', 'solver': 'liblinear', 'C': 0.02}. Best is trial 8 with value: 0.790418113042934.\u001b[0m\n",
      "\u001b[32m[I 2022-12-26 15:32:41,093]\u001b[0m Trial 12 finished with value: 0.7744711953493978 and parameters: {'penalty': 'l2', 'solver': 'liblinear', 'C': 1}. Best is trial 8 with value: 0.790418113042934.\u001b[0m\n",
      "\u001b[32m[I 2022-12-26 15:32:41,971]\u001b[0m Trial 13 finished with value: 0.7916416264895743 and parameters: {'penalty': 'l2', 'solver': 'liblinear', 'C': 0.03}. Best is trial 13 with value: 0.7916416264895743.\u001b[0m\n",
      "\u001b[32m[I 2022-12-26 15:32:42,829]\u001b[0m Trial 14 finished with value: 0.7916416264895743 and parameters: {'penalty': 'l2', 'solver': 'liblinear', 'C': 0.03}. Best is trial 13 with value: 0.7916416264895743.\u001b[0m\n",
      "\u001b[32m[I 2022-12-26 15:32:43,668]\u001b[0m Trial 15 finished with value: 0.7916416264895743 and parameters: {'penalty': 'l2', 'solver': 'liblinear', 'C': 0.03}. Best is trial 13 with value: 0.7916416264895743.\u001b[0m\n",
      "\u001b[32m[I 2022-12-26 15:32:44,514]\u001b[0m Trial 16 finished with value: 0.7916416264895743 and parameters: {'penalty': 'l2', 'solver': 'liblinear', 'C': 0.03}. Best is trial 13 with value: 0.7916416264895743.\u001b[0m\n",
      "\u001b[32m[I 2022-12-26 15:32:45,370]\u001b[0m Trial 17 finished with value: 0.7916416264895743 and parameters: {'penalty': 'l2', 'solver': 'liblinear', 'C': 0.03}. Best is trial 13 with value: 0.7916416264895743.\u001b[0m\n",
      "\u001b[32m[I 2022-12-26 15:32:46,214]\u001b[0m Trial 18 finished with value: 0.7916416264895743 and parameters: {'penalty': 'l2', 'solver': 'liblinear', 'C': 0.03}. Best is trial 13 with value: 0.7916416264895743.\u001b[0m\n",
      "\u001b[32m[I 2022-12-26 15:32:47,072]\u001b[0m Trial 19 finished with value: 0.7916416264895743 and parameters: {'penalty': 'l2', 'solver': 'liblinear', 'C': 0.03}. Best is trial 13 with value: 0.7916416264895743.\u001b[0m\n"
     ]
    },
    {
     "name": "stdout",
     "output_type": "stream",
     "text": [
      "CPU times: total: 11.3 s\n",
      "Wall time: 1min 28s\n"
     ]
    }
   ],
   "source": [
    "%%time\n",
    "# cоздаем объект исследования\n",
    "# можем напрямую указать, что нам необходимо максимизировать метрику direction=\"maximize\"\n",
    "study = optuna.create_study(study_name=\"LogisticRegression\", direction=\"maximize\")\n",
    "# ищем лучшую комбинацию гиперпараметров n_trials раз\n",
    "study.optimize(optuna_lg, n_trials=20)"
   ]
  },
  {
   "cell_type": "code",
   "execution_count": 70,
   "metadata": {},
   "outputs": [
    {
     "name": "stdout",
     "output_type": "stream",
     "text": [
      "Наилучшие значения гиперпараметров {'penalty': 'l2', 'solver': 'liblinear', 'C': 0.03}\n",
      "f1_score на обучающем наборе: 0.79\n"
     ]
    }
   ],
   "source": [
    "# выводим результаты на обучающей выборке\n",
    "print(\"Наилучшие значения гиперпараметров {}\".format(study.best_params))\n",
    "print(\"f1_score на обучающем наборе: {:.2f}\".format(study.best_value))"
   ]
  },
  {
   "cell_type": "code",
   "execution_count": 71,
   "metadata": {},
   "outputs": [
    {
     "name": "stdout",
     "output_type": "stream",
     "text": [
      "accuracy на тестовом наборе: 0.77\n",
      "f1_score на тестовом наборе: 0.79\n"
     ]
    }
   ],
   "source": [
    "# рассчитаем точность для тестовой выборки\n",
    "model = linear_model.LogisticRegression(**study.best_params,random_state=42, max_iter=1000)\n",
    "model.fit(X_train, y_train)\n",
    "y_train_pred = model.predict(X_train)\n",
    "print(\"accuracy на тестовом наборе: {:.2f}\".format(model.score(X_test, y_test)))\n",
    "y_test_pred = model.predict(X_test)\n",
    "print('f1_score на тестовом наборе: {:.2f}'.format(metrics.f1_score(y_test, y_test_pred)))"
   ]
  },
  {
   "attachments": {},
   "cell_type": "markdown",
   "metadata": {},
   "source": [
    "#### **Random Forrest**"
   ]
  },
  {
   "cell_type": "code",
   "execution_count": 72,
   "metadata": {},
   "outputs": [],
   "source": [
    "def optuna_rf(trial):\n",
    "  # задаем пространства поиска гиперпараметров\n",
    "  n_estimators = trial.suggest_int('n_estimators', 100, 200, 1)\n",
    "  max_depth = trial.suggest_int('max_depth', 10, 30, 1)\n",
    "  min_samples_leaf = trial.suggest_int('min_samples_leaf', 2, 10, 1)\n",
    "\n",
    "  # создаем модель\n",
    "  model = ensemble.RandomForestClassifier(n_estimators=n_estimators,\n",
    "                                          max_depth=max_depth,\n",
    "                                          min_samples_leaf=min_samples_leaf,\n",
    "                                          random_state=random_state)\n",
    "  # обучаем модель\n",
    "  model.fit(X_train, y_train)\n",
    "  score = cross_val_score(model, X, y, cv=5, scoring=\"f1\", n_jobs=-1).mean()\n",
    "\n",
    "  return score\n",
    "  "
   ]
  },
  {
   "cell_type": "code",
   "execution_count": 73,
   "metadata": {},
   "outputs": [
    {
     "name": "stderr",
     "output_type": "stream",
     "text": [
      "\u001b[32m[I 2022-12-26 15:36:45,405]\u001b[0m A new study created in memory with name: RandomForrest\u001b[0m\n",
      "\u001b[32m[I 2022-12-26 15:36:48,123]\u001b[0m Trial 0 finished with value: 0.8011221645185189 and parameters: {'n_estimators': 119, 'max_depth': 19, 'min_samples_leaf': 8}. Best is trial 0 with value: 0.8011221645185189.\u001b[0m\n",
      "\u001b[32m[I 2022-12-26 15:36:50,624]\u001b[0m Trial 1 finished with value: 0.7996482626300357 and parameters: {'n_estimators': 103, 'max_depth': 20, 'min_samples_leaf': 8}. Best is trial 0 with value: 0.8011221645185189.\u001b[0m\n",
      "\u001b[32m[I 2022-12-26 15:36:52,938]\u001b[0m Trial 2 finished with value: 0.7947816240999137 and parameters: {'n_estimators': 109, 'max_depth': 11, 'min_samples_leaf': 8}. Best is trial 0 with value: 0.8011221645185189.\u001b[0m\n",
      "\u001b[32m[I 2022-12-26 15:36:56,092]\u001b[0m Trial 3 finished with value: 0.7958272272371877 and parameters: {'n_estimators': 166, 'max_depth': 10, 'min_samples_leaf': 7}. Best is trial 0 with value: 0.8011221645185189.\u001b[0m\n",
      "\u001b[32m[I 2022-12-26 15:36:58,422]\u001b[0m Trial 4 finished with value: 0.8031140858559944 and parameters: {'n_estimators': 107, 'max_depth': 16, 'min_samples_leaf': 7}. Best is trial 4 with value: 0.8031140858559944.\u001b[0m\n",
      "\u001b[32m[I 2022-12-26 15:37:01,112]\u001b[0m Trial 5 finished with value: 0.8060309225384781 and parameters: {'n_estimators': 128, 'max_depth': 23, 'min_samples_leaf': 7}. Best is trial 5 with value: 0.8060309225384781.\u001b[0m\n",
      "\u001b[32m[I 2022-12-26 15:37:04,366]\u001b[0m Trial 6 finished with value: 0.8003716264166988 and parameters: {'n_estimators': 171, 'max_depth': 22, 'min_samples_leaf': 8}. Best is trial 5 with value: 0.8060309225384781.\u001b[0m\n",
      "\u001b[32m[I 2022-12-26 15:37:08,490]\u001b[0m Trial 7 finished with value: 0.8070394359005016 and parameters: {'n_estimators': 190, 'max_depth': 26, 'min_samples_leaf': 4}. Best is trial 7 with value: 0.8070394359005016.\u001b[0m\n",
      "\u001b[32m[I 2022-12-26 15:37:11,313]\u001b[0m Trial 8 finished with value: 0.7940631025907827 and parameters: {'n_estimators': 148, 'max_depth': 27, 'min_samples_leaf': 10}. Best is trial 7 with value: 0.8070394359005016.\u001b[0m\n",
      "\u001b[32m[I 2022-12-26 15:37:13,456]\u001b[0m Trial 9 finished with value: 0.7996716344024091 and parameters: {'n_estimators': 106, 'max_depth': 28, 'min_samples_leaf': 8}. Best is trial 7 with value: 0.8070394359005016.\u001b[0m\n",
      "\u001b[32m[I 2022-12-26 15:37:18,290]\u001b[0m Trial 10 finished with value: 0.8152376600128445 and parameters: {'n_estimators': 197, 'max_depth': 30, 'min_samples_leaf': 2}. Best is trial 10 with value: 0.8152376600128445.\u001b[0m\n",
      "\u001b[32m[I 2022-12-26 15:37:23,104]\u001b[0m Trial 11 finished with value: 0.8170212975824629 and parameters: {'n_estimators': 194, 'max_depth': 29, 'min_samples_leaf': 2}. Best is trial 11 with value: 0.8170212975824629.\u001b[0m\n",
      "\u001b[32m[I 2022-12-26 15:37:27,915]\u001b[0m Trial 12 finished with value: 0.8153152618428162 and parameters: {'n_estimators': 199, 'max_depth': 30, 'min_samples_leaf': 2}. Best is trial 11 with value: 0.8170212975824629.\u001b[0m\n",
      "\u001b[32m[I 2022-12-26 15:37:32,472]\u001b[0m Trial 13 finished with value: 0.8157827353383638 and parameters: {'n_estimators': 183, 'max_depth': 30, 'min_samples_leaf': 2}. Best is trial 11 with value: 0.8170212975824629.\u001b[0m\n",
      "\u001b[32m[I 2022-12-26 15:37:36,365]\u001b[0m Trial 14 finished with value: 0.8076795703685443 and parameters: {'n_estimators': 177, 'max_depth': 25, 'min_samples_leaf': 4}. Best is trial 11 with value: 0.8170212975824629.\u001b[0m\n",
      "\u001b[32m[I 2022-12-26 15:37:39,906]\u001b[0m Trial 15 finished with value: 0.8076684128315816 and parameters: {'n_estimators': 156, 'max_depth': 30, 'min_samples_leaf': 4}. Best is trial 11 with value: 0.8170212975824629.\u001b[0m\n",
      "\u001b[32m[I 2022-12-26 15:37:43,979]\u001b[0m Trial 16 finished with value: 0.8133948383282288 and parameters: {'n_estimators': 183, 'max_depth': 16, 'min_samples_leaf': 3}. Best is trial 11 with value: 0.8170212975824629.\u001b[0m\n",
      "\u001b[32m[I 2022-12-26 15:37:47,212]\u001b[0m Trial 17 finished with value: 0.8068366054031602 and parameters: {'n_estimators': 144, 'max_depth': 24, 'min_samples_leaf': 5}. Best is trial 11 with value: 0.8170212975824629.\u001b[0m\n",
      "\u001b[32m[I 2022-12-26 15:37:51,745]\u001b[0m Trial 18 finished with value: 0.8142432612164636 and parameters: {'n_estimators': 185, 'max_depth': 28, 'min_samples_leaf': 2}. Best is trial 11 with value: 0.8170212975824629.\u001b[0m\n",
      "\u001b[32m[I 2022-12-26 15:37:55,562]\u001b[0m Trial 19 finished with value: 0.811004918697399 and parameters: {'n_estimators': 162, 'max_depth': 20, 'min_samples_leaf': 3}. Best is trial 11 with value: 0.8170212975824629.\u001b[0m\n"
     ]
    },
    {
     "name": "stdout",
     "output_type": "stream",
     "text": [
      "CPU times: total: 9.09 s\n",
      "Wall time: 1min 10s\n"
     ]
    }
   ],
   "source": [
    "%%time\n",
    "study_rf = optuna.create_study(study_name=\"RandomForrest\", direction=\"maximize\")\n",
    "study_rf.optimize(optuna_rf, n_trials=20)"
   ]
  },
  {
   "cell_type": "code",
   "execution_count": 74,
   "metadata": {},
   "outputs": [
    {
     "name": "stdout",
     "output_type": "stream",
     "text": [
      "Наилучшие значения гиперпараметров {'n_estimators': 194, 'max_depth': 29, 'min_samples_leaf': 2}\n",
      "f1_score на обучающем наборе: 0.82\n"
     ]
    }
   ],
   "source": [
    "# выводим результаты на обучающей выборке\n",
    "print(\"Наилучшие значения гиперпараметров {}\".format(study_rf.best_params))\n",
    "print(\"f1_score на обучающем наборе: {:.2f}\".format(study_rf.best_value))"
   ]
  },
  {
   "cell_type": "code",
   "execution_count": 75,
   "metadata": {},
   "outputs": [
    {
     "name": "stdout",
     "output_type": "stream",
     "text": [
      "accuracy на тестовом наборе: 0.80\n",
      "f1_score на тестовом наборе: 0.82\n"
     ]
    }
   ],
   "source": [
    "# рассчитаем точность для тестовой выборки\n",
    "model = ensemble.RandomForestClassifier(**study_rf.best_params,random_state=random_state, )\n",
    "model.fit(X_train, y_train)\n",
    "y_train_pred = model.predict(X_train)\n",
    "print(\"accuracy на тестовом наборе: {:.2f}\".format(model.score(X_test, y_test)))\n",
    "y_test_pred = model.predict(X_test)\n",
    "print('f1_score на тестовом наборе: {:.2f}'.format(metrics.f1_score(y_test, y_test_pred)))"
   ]
  },
  {
   "attachments": {},
   "cell_type": "markdown",
   "metadata": {},
   "source": [
    "### Выводы. Проделана работа по оптимизации моделей машинного обучения, с помощью различных методов."
   ]
  }
 ],
 "metadata": {
  "kernelspec": {
   "display_name": "Python 3",
   "language": "python",
   "name": "python3"
  },
  "language_info": {
   "codemirror_mode": {
    "name": "ipython",
    "version": 3
   },
   "file_extension": ".py",
   "mimetype": "text/x-python",
   "name": "python",
   "nbconvert_exporter": "python",
   "pygments_lexer": "ipython3",
   "version": "3.11.0"
  },
  "orig_nbformat": 4,
  "vscode": {
   "interpreter": {
    "hash": "9c0196e16b300474b53943afeb338736ceadf7f658100eba1cc0301b2dd93e6d"
   }
  }
 },
 "nbformat": 4,
 "nbformat_minor": 2
}
